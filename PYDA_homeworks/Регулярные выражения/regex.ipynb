{
 "cells": [
  {
   "cell_type": "markdown",
   "metadata": {},
   "source": [
    "**Задание 1.** Напишите функцию, которая принимает на вход строку и проверяет является ли она валидным транспортным номером. Если да, то функция должна возвращать отдельно номер и регион."
   ]
  },
  {
   "cell_type": "code",
   "execution_count": null,
   "metadata": {},
   "outputs": [],
   "source": [
    "import re"
   ]
  },
  {
   "cell_type": "code",
   "execution_count": 282,
   "metadata": {},
   "outputs": [
    {
     "name": "stdout",
     "output_type": "stream",
     "text": [
      " \"Номер\": В555КМ \"Регион\": 52\n",
      " \"Номер\": Н236НН \"Регион\": 177\n"
     ]
    }
   ],
   "source": [
    "def validation_of_number():\n",
    "    number = ['В555КМ52', 'Н236НН177']\n",
    "    regex = '([АВЕКМНОРСТУХ]{1}[0-9]{3}[АВЕКМНОРСТУХ]{2})([0-9]{2,3})'\n",
    "    for number in number:\n",
    "        result = re.findall(regex, number)\n",
    "        if re.findall(regex, number):\n",
    "            print(f' \"Номер\": {result[0][0]} \"Регион\": {result[0][1]}')\n",
    "        else: \n",
    "            print('Некорректный номер')\n",
    "\n",
    "validation_of_number()"
   ]
  },
  {
   "cell_type": "markdown",
   "metadata": {},
   "source": [
    "**Задание 2**. Напишите функцию, которая проверяет e-mail адрес на валидность по стандарту RFC822: http://www.w3.org/Protocols/rfc822/. Для этого постарайтесь написать (в крайнем случае найти) самый полный шаблон для проверки e-mail адресов через регулярное выражение. Разберитесь и напишите примеры, какие ваш шаблон может не охватить."
   ]
  },
  {
   "cell_type": "code",
   "execution_count": 453,
   "metadata": {},
   "outputs": [
    {
     "name": "stdout",
     "output_type": "stream",
     "text": [
      "Valid email address\n"
     ]
    }
   ],
   "source": [
    "def validation_of_email(email):\n",
    "    \n",
    "    regex_email = '([A-Za-z0-9\\-\\.\\_]{1,64})(?<!\\-|\\.|\\_)(@[a-zA-Z]+)(\\.[a-zA-Z]+)'\n",
    "    if re.findall(regex_email, email):\n",
    "        print('Valid email address')\n",
    "    else:\n",
    "        print('Invalid e-mail address')\n",
    "        \n",
    "validation_of_email('bvhghg@gmail.com')      "
   ]
  },
  {
   "cell_type": "markdown",
   "metadata": {},
   "source": [
    "**Задание 3.** Напишите функцию, которая будет удалять все последовательные повторы слов из заданной строки при помощи регулярных выражений."
   ]
  },
  {
   "cell_type": "code",
   "execution_count": 645,
   "metadata": {},
   "outputs": [],
   "source": [
    "string_text = 'Теория Теория Теория Практика Практика'"
   ]
  },
  {
   "cell_type": "code",
   "execution_count": 1022,
   "metadata": {},
   "outputs": [
    {
     "name": "stdout",
     "output_type": "stream",
     "text": [
      "Теория Практика\n"
     ]
    }
   ],
   "source": [
    "def reply():\n",
    "    print(re.sub(r'(\\w+)(\\s\\1)+', r'\\1',string_text))\n",
    "reply()"
   ]
  },
  {
   "cell_type": "markdown",
   "metadata": {},
   "source": [
    "**Задание 4**. Напишите функцию, которая будет проверять номер сотового телефона на валидность, если он валиден, то переводить его в формат:   \n",
    "+7(xxx)-xxx-xx-xx  \n",
    "Постарайтесь предусмотреть как можно больше адекватных форматов изначального ввода номера.\n",
    "Примеры валидных форматов:\n",
    "- +7 955 555-55-55;\n",
    "- 9555555555;\n",
    "- 8(955)555-55-55;\n",
    "- +7 955 555 55 55;\n",
    "- 7(955) 555-55-55;\n",
    "- +7 955+555+55+55."
   ]
  },
  {
   "cell_type": "code",
   "execution_count": 1188,
   "metadata": {},
   "outputs": [
    {
     "name": "stdout",
     "output_type": "stream",
     "text": [
      "+7(955)-555-55-55\n"
     ]
    }
   ],
   "source": [
    "def valid_phone_number(phone_number):\n",
    "#     phone_number = '+7 955+555+55+55'\n",
    "    result = re.sub(r'[(+7)\\s()-]','', phone_number)\n",
    "    if len(result) == 11:\n",
    "        result = result.replace(result[0],'')\n",
    "    if len(result) == 10:\n",
    "        format_number = re.sub(r'(\\d{3})(\\d{3})(\\d{2})(\\d{2})',r'+7(\\1)-\\2-\\3-\\4', result)\n",
    "        print(format_number)\n",
    "    else:\n",
    "        print('Invalid phone number')\n",
    "\n",
    "valid_phone_number('+7 955+555+55+55')"
   ]
  }
 ],
 "metadata": {
  "kernelspec": {
   "display_name": "Python 3",
   "language": "python",
   "name": "python3"
  },
  "language_info": {
   "codemirror_mode": {
    "name": "ipython",
    "version": 3
   },
   "file_extension": ".py",
   "mimetype": "text/x-python",
   "name": "python",
   "nbconvert_exporter": "python",
   "pygments_lexer": "ipython3",
   "version": "3.7.4"
  }
 },
 "nbformat": 4,
 "nbformat_minor": 2
}
