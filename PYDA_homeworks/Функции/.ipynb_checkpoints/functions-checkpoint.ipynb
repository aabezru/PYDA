{
 "cells": [
  {
   "cell_type": "markdown",
   "metadata": {},
   "source": [
    "Вы работаете секретарем и вам постоянно приходят различные документы. Вы должны быть очень внимательны, чтобы не потерять ни один документ. Каталог документов хранится в следующем виде:"
   ]
  },
  {
   "cell_type": "code",
   "execution_count": 56,
   "metadata": {},
   "outputs": [],
   "source": [
    "documents = [\n",
    "    {'type': 'passport', 'number': '2207 876234', 'name': 'Василий Гупкин'},\n",
    "    {'type': 'invoice', 'number': '11-2', 'name': 'Геннадий Покемонов'},\n",
    "    {'type': 'insurance', 'number': '10006', 'name': 'Аристарх Павлов'}\n",
    "]"
   ]
  },
  {
   "cell_type": "markdown",
   "metadata": {},
   "source": [
    "Перечень полок, на которых находятся документы хранится в следующем виде:"
   ]
  },
  {
   "cell_type": "code",
   "execution_count": 57,
   "metadata": {},
   "outputs": [],
   "source": [
    "directories = {\n",
    "    '1': ['2207 876234', '11-2'],\n",
    "    '2': ['10006'],\n",
    "    '3': []\n",
    "}"
   ]
  },
  {
   "cell_type": "markdown",
   "metadata": {},
   "source": [
    "Необходимо реализовать пользовательские команды (внимание! это не название функций, которые должны быть выразительными, а команды, которые вводит пользователь, чтобы получить необходимый результат):\n",
    "  \n",
    "- p – people – команда, которая спросит номер документа и выведет имя человека, которому он принадлежит;  \n",
    "- s – shelf – команда, которая спросит номер документа и выведет номер полки, на которой он находится  \n",
    "Правильно обработайте ситуацию, когда пользователь будет вводить несуществующий документ.\n",
    "- l – list – команда, которая выведет список всех документов в формате   \n",
    "**passport \"2207 876234\" \"Василий Гупкин\"**  \n",
    "- as – add shelf – команда, которая спросит номер новой полки и добавит ее в перечень\n",
    "- d – delete – команда, которая спросит номер документа и удалит его из каталога и из перечня полок. Предусмотрите сценарий, когда пользователь вводит несуществующий документ;  \n",
    "- m – move – команда, которая спросит номер документа и целевую полку и переместит его с текущей полки на целевую. Корректно обработайте кейсы, когда пользователь пытается переместить несуществующий документ или переместить документ на несуществующую полку;  \n",
    "- a – add – команда, которая добавит новый документ в каталог и в перечень полок, спросив его номер, тип, имя владельца и номер полки, на котором он будет храниться."
   ]
  },
  {
   "cell_type": "code",
   "execution_count": 39,
   "metadata": {},
   "outputs": [
    {
     "name": "stdout",
     "output_type": "stream",
     "text": [
      "Введите номер документа: 11-2\n",
      "Геннадий Покемонов\n"
     ]
    }
   ],
   "source": [
    "# p – people – команда, которая спросит номер документа и выведет имя человека, которому он принадлежит\n",
    "def command_p():\n",
    "    i = 0\n",
    "    user_input_command_p = input('Введите номер документа: ')\n",
    "    for doc in documents:\n",
    "        if user_input_command_p == doc['number']:\n",
    "            print(doc['name'])\n",
    "            i += 1\n",
    "    if i == 0:\n",
    "        print('Некорректный ввод')\n",
    "command_p()"
   ]
  },
  {
   "cell_type": "code",
   "execution_count": 40,
   "metadata": {},
   "outputs": [
    {
     "name": "stdout",
     "output_type": "stream",
     "text": [
      "Введите номер документа: 11-2\n",
      "Полка № 1\n"
     ]
    }
   ],
   "source": [
    "# s – shelf – команда, которая спросит номер документа и выведет номер полки, на которой он находится\n",
    "def command_s():\n",
    "    n = 0\n",
    "    user_input_command_s = input('Введите номер документа: ')\n",
    "    for direct in directories.items():\n",
    "        if user_input_command_s in direct[1]:\n",
    "            print (f'Полка № {direct[0]}')\n",
    "            n += 1\n",
    "    if n == 0:\n",
    "        print('Некорректный ввод')\n",
    "command_s()"
   ]
  },
  {
   "cell_type": "code",
   "execution_count": 41,
   "metadata": {},
   "outputs": [
    {
     "name": "stdout",
     "output_type": "stream",
     "text": [
      " passport \"2207 876234\" \"Василий Гупкин\"\n",
      " invoice \"11-2\" \"Геннадий Покемонов\"\n",
      " insurance \"10006\" \"Аристарх Павлов\"\n"
     ]
    }
   ],
   "source": [
    "# l – list – команда, которая выведет список всех документов в формате\n",
    "def command_l():\n",
    "    index = -1\n",
    "    for docs in documents:\n",
    "        index += 1\n",
    "        print(f' {documents[index][\"type\"]} \"{documents[index][\"number\"]}\" \"{documents[index][\"name\"]}\"')\n",
    "command_l()"
   ]
  },
  {
   "cell_type": "code",
   "execution_count": 42,
   "metadata": {},
   "outputs": [
    {
     "name": "stdout",
     "output_type": "stream",
     "text": [
      "{'1': ['2207 876234', '11-2'], '2': ['10006'], '3': []}\n",
      "Введите № новой полки для добавления: 4\n"
     ]
    }
   ],
   "source": [
    "# as – add shelf – команда, которая добавит новый номер полки в перечень\n",
    "def command_as():\n",
    "    print(directories)\n",
    "    num = input('Введите № новой полки для добавления: ')\n",
    "    a = directories.setdefault(num,[])\n",
    "command_as()"
   ]
  },
  {
   "cell_type": "code",
   "execution_count": 43,
   "metadata": {},
   "outputs": [
    {
     "name": "stdout",
     "output_type": "stream",
     "text": [
      "Введите номер документа: 11-2\n",
      "Документ удален из перечня документов\n",
      "Документ удален из перечня полок\n"
     ]
    }
   ],
   "source": [
    "# d – delete – команда, которая спросит номер документа и удалит его из каталога и из перечня полок\n",
    "def command_d():\n",
    "    x = - 1\n",
    "    i = 0\n",
    "    user_input_command_d = input('Введите номер документа: ')\n",
    "    for doc_d in documents:\n",
    "        x += 1\n",
    "        if user_input_command_d in documents[x]['number']:\n",
    "            del(documents[x])\n",
    "            print('Документ удален из перечня документов')\n",
    "            i += 1\n",
    "    for direct in directories.items():\n",
    "        if user_input_command_d in direct[1]:\n",
    "            direct[1].remove(user_input_command_d)\n",
    "            print('Документ удален из перечня полок')\n",
    "    if i == 0:\n",
    "        print('Некорректный ввод')\n",
    "command_d()"
   ]
  },
  {
   "cell_type": "code",
   "execution_count": 44,
   "metadata": {},
   "outputs": [
    {
     "name": "stdout",
     "output_type": "stream",
     "text": [
      "Введите номер документа: 10006\n",
      "Введите номер целевой полки: 1\n",
      "Документ перемещен на полку № 1\n"
     ]
    }
   ],
   "source": [
    "# m – move – команда, которая спросит номер документа и целевую полку и переместит его с текущей полки на целевую\n",
    "def command_m():\n",
    "    a = 0\n",
    "    user_input_command_m = input('Введите номер документа: ')\n",
    "    user_input_directory = input('Введите номер целевой полки: ')\n",
    "    for direct in directories.values():\n",
    "        if user_input_command_m in direct and user_input_directory in directories:\n",
    "            direct.remove(user_input_command_m)\n",
    "            directories[user_input_directory].append(user_input_command_m)\n",
    "            print(f'Документ перемещен на полку № {user_input_directory}')\n",
    "            a += 1\n",
    "            break\n",
    "        else:\n",
    "            a == 0        \n",
    "    if a == 0:\n",
    "        print('Введите корректный номер')\n",
    "        \n",
    "command_m()"
   ]
  },
  {
   "cell_type": "code",
   "execution_count": 45,
   "metadata": {},
   "outputs": [
    {
     "name": "stdout",
     "output_type": "stream",
     "text": [
      "Введите номер документа: 10006\n",
      "Введите тип документа: pass\n",
      "Введите имя владельца документа: Oleg\n",
      "Введите номер целевой полки: 3\n",
      "Новый документ успешно добавлен\n"
     ]
    }
   ],
   "source": [
    "# a – add – команда, которая добавит новый документ в каталог и в перечень полок\n",
    "def command_a():\n",
    "    user_input_num_doc = input('Введите номер документа: ')\n",
    "    user_input_type = input('Введите тип документа: ')\n",
    "    user_input_name = input('Введите имя владельца документа: ')\n",
    "    user_input_dir = input('Введите номер целевой полки: ')\n",
    "    for doc in documents:\n",
    "        doc = {'type': user_input_type, 'number': user_input_num_doc, 'name': user_input_name}\n",
    "    if user_input_dir in directories:\n",
    "        documents.append(doc)\n",
    "        directories[user_input_dir].append(user_input_num_doc)\n",
    "        print('Новый документ успешно добавлен')\n",
    "    else:\n",
    "        print('Некорректный номер полки. Создайте полку или выберите имеющуюся')\n",
    "command_a()"
   ]
  },
  {
   "cell_type": "code",
   "execution_count": 55,
   "metadata": {},
   "outputs": [
    {
     "name": "stdout",
     "output_type": "stream",
     "text": [
      "Введите команду: a\n",
      "Введите номер документа: 555\n",
      "Введите тип документа: 55555\n",
      "Введите имя владельца документа: 55555\n",
      "Введите номер целевой полки: 3\n",
      "Новый документ успешно добавлен\n"
     ]
    }
   ],
   "source": [
    "def command():\n",
    "    user_input = input('Введите команду: ')\n",
    "    if user_input == 'p':\n",
    "        command_p()\n",
    "    elif user_input == 's':\n",
    "        command_s()\n",
    "    elif user_input == 'l':\n",
    "        command_l()\n",
    "    elif user_input == 'as':\n",
    "        command_as()\n",
    "    elif user_input == 'd':\n",
    "        command_d()\n",
    "    elif user_input == 'm':\n",
    "        command_m()\n",
    "    elif user_input == 'a':\n",
    "        command_a()\n",
    "    else:\n",
    "        print('Ошибка! Введите корректную команду!')\n",
    "command()"
   ]
  }
 ],
 "metadata": {
  "kernelspec": {
   "display_name": "Python 3",
   "language": "python",
   "name": "python3"
  },
  "language_info": {
   "codemirror_mode": {
    "name": "ipython",
    "version": 3
   },
   "file_extension": ".py",
   "mimetype": "text/x-python",
   "name": "python",
   "nbconvert_exporter": "python",
   "pygments_lexer": "ipython3",
   "version": "3.7.4"
  }
 },
 "nbformat": 4,
 "nbformat_minor": 2
}
