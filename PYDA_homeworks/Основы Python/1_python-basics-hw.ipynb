{
 "cells": [
  {
   "cell_type": "markdown",
   "metadata": {},
   "source": [
    "**Задание 1**. Даны 2 строки: *long_phrase* и *short_phrase*. \n",
    "Напишите код, который проверяет действительно ли длинная фраза *long_phrase* длиннее короткой *short_phrase*. И выводит *True* или *False* в зависимости от результата сравнения."
   ]
  },
  {
   "cell_type": "code",
   "execution_count": 3,
   "metadata": {},
   "outputs": [],
   "source": [
    "long_phrase = 'Насколько проще было бы писать программы, если бы не заказчики'\n",
    "short_phrase = '640Кб должно хватить для любых задач. Билл Гейтс (по легенде)'"
   ]
  },
  {
   "cell_type": "code",
   "execution_count": 4,
   "metadata": {},
   "outputs": [
    {
     "data": {
      "text/plain": [
       "True"
      ]
     },
     "execution_count": 4,
     "metadata": {},
     "output_type": "execute_result"
    }
   ],
   "source": [
    "len(long_phrase) > len(short_phrase)"
   ]
  },
  {
   "cell_type": "markdown",
   "metadata": {},
   "source": [
    "**Задание 2**. Дано значение объема файла в байтах. Напишите перевод этого значения в мегабайты в формате: \"*Объем файла равен 213.68Mb*\""
   ]
  },
  {
   "cell_type": "code",
   "execution_count": 3,
   "metadata": {},
   "outputs": [
    {
     "name": "stdout",
     "output_type": "stream",
     "text": [
      "Введите объем файла (байт): 2097152\n",
      "Объем файла равен 2.0 Mb\n"
     ]
    }
   ],
   "source": [
    "weight_byte = int(input('Введите объем файла (байт): '))\n",
    "print('Объем файла равен', weight_byte/1048576,'Mb')"
   ]
  },
  {
   "cell_type": "markdown",
   "metadata": {},
   "source": [
    "**Задание 3**. Разработать приложение для определения знака зодиака по дате рождения. Пример:\n",
    "\n",
    "Введите месяц: март\n",
    "\n",
    "Введите число: 6\n",
    "\n",
    "Вывод:\n",
    "Рыбы"
   ]
  },
  {
   "cell_type": "code",
   "execution_count": 1,
   "metadata": {},
   "outputs": [
    {
     "name": "stdout",
     "output_type": "stream",
     "text": [
      "Введите месяц: май\n",
      "Введите число: 15\n",
      "Знак зодиака:  Телец\n"
     ]
    }
   ],
   "source": [
    "month_born = input('Введите месяц: ')\n",
    "date_born = int(input('Введите число: '))\n",
    "if month_born == 'январь':\n",
    "    if 0 < date_born < 21:\n",
    "        print('Знак зодиака: ','Козерог')\n",
    "    elif date_born > 31:\n",
    "        print('Неверное число')\n",
    "    else:\n",
    "        print('Знак зодиака: ','Водолей')\n",
    "elif month_born == 'февраль':\n",
    "    if 0 < date_born < 19:\n",
    "        print('Знак зодиака: ','Водолей')\n",
    "    elif date_born > 29:\n",
    "        print('Неверное число')\n",
    "    else:\n",
    "        print('Знак зодиака: ','Рыбы')\n",
    "elif month_born == 'март':\n",
    "    if 0 < date_born < 21:\n",
    "        print('Знак зодиака: ','Рыбы')\n",
    "    elif date_born > 31:\n",
    "        print('Неверное число')\n",
    "    else:\n",
    "        print('Знак зодиака: ','Овен')\n",
    "elif month_born == 'апрель':\n",
    "    if 0 < date_born < 20:\n",
    "        print('Знак зодиака: ','Овен')\n",
    "    elif date_born > 30:\n",
    "        print('Неверное число')\n",
    "    else:\n",
    "        print('Знак зодиака: ','Телец')\n",
    "elif month_born == 'май':\n",
    "    if 0 < date_born < 21:\n",
    "        print('Знак зодиака: ','Телец')\n",
    "    elif date_born > 31:\n",
    "        print('Неверное число')\n",
    "    else:\n",
    "        print('Знак зодиака: ','Близнецы')\n",
    "elif month_born == 'июнь':\n",
    "    if 0 < date_born < 22:\n",
    "        print('Знак зодиака: ','Близнецы')\n",
    "    elif date_born > 30:\n",
    "        print('Неверное число')\n",
    "    else:\n",
    "        print('Знак зодиака: ','Рак')\n",
    "elif month_born == 'июль':\n",
    "    if 0 < date_born < 23:\n",
    "        print('Знак зодиака: ','Рак')\n",
    "    elif date_born > 31:\n",
    "        print('Неверное число')\n",
    "    else:\n",
    "        print('Знак зодиака: ','Лев')\n",
    "elif month_born == 'август':\n",
    "    if 0 < date_born < 23:\n",
    "        print('Знак зодиака: ','Лев')\n",
    "    elif date_born > 31:\n",
    "        print('Неверное число')\n",
    "    else:\n",
    "        print('Знак зодиака: ','Дева')\n",
    "elif month_born == 'сентябрь':\n",
    "    if 0 < date_born < 23:\n",
    "        print('Знак зодиака: ','Дева')\n",
    "    elif date_born > 30:\n",
    "        print('Неверное число')\n",
    "    else:\n",
    "        print('Знак зодиака: ','Весы')\n",
    "elif month_born == 'октябрь':\n",
    "    if 0 < date_born < 24:\n",
    "        print('Знак зодиака: ','Весы')\n",
    "    elif date_born > 31:\n",
    "        print('Неверное число')\n",
    "    else:\n",
    "        print('Знак зодиака: ','Скорпион')\n",
    "elif month_born == 'ноябрь':\n",
    "    if 0 < date_born < 23:\n",
    "        print('Знак зодиака: ','Скорпион')\n",
    "    elif date_born > 30:\n",
    "        print('Неверное число')\n",
    "    else:\n",
    "        print('Знак зодиака: ','Стрелец')\n",
    "elif month_born == 'декабрь':\n",
    "    if 0 < date_born < 22:\n",
    "        print('Знак зодиака: ','Стрелец')\n",
    "    elif date_born > 31:\n",
    "        print('Неверное число')\n",
    "    else:\n",
    "        print('Знак зодиака: ','Козерог')\n",
    "else: \n",
    "    print ('Некорректно введен месяц')"
   ]
  },
  {
   "cell_type": "markdown",
   "metadata": {},
   "source": [
    "**Задание 4**. Нужно разработать приложение для финансового планирования.\n",
    "Приложение учитывает сколько уходит на ипотеку, \"на жизнь\" и сколько нужно отложить на пенсию.\n",
    "Пользователь вводит:\n",
    "- заработанную плату в месяц.\n",
    "- сколько процентов от ЗП уходит на ипотеку.\n",
    "- сколько процентов от ЗП уходит \"на жизнь\".\n",
    "- сколько раз приходит премия в год.\n",
    "\n",
    "Остальная часть заработанной платы откладывается на пенсию.\n",
    "\n",
    "Также пользователю приходит премия в размере зарплаты, от которой половина уходит на отпуск, а вторая половина откладывается.\n",
    "\n",
    "Программа должна учитывать сколько премий было в год.\n",
    "\n",
    "Нужно вывести сколько денег тратит пользователь на ипотеку и сколько он накопит за год.\n",
    "\n",
    "Пример:\n",
    "\n",
    "Введите заработанную плату в месяц: 100000\n",
    "\n",
    "Введите сколько процентов уходит на ипотеку: 30\n",
    "\n",
    "Введите сколько процентов уходит на жизнь: 50\n",
    "\n",
    "Введите количество премий за год: 2\n",
    "\n",
    "Вывод:\n",
    "На ипотеку было потрачено: 360000 рублей\n",
    "Было накоплено: 340000 рублей"
   ]
  },
  {
   "cell_type": "code",
   "execution_count": 10,
   "metadata": {},
   "outputs": [
    {
     "name": "stdout",
     "output_type": "stream",
     "text": [
      "Введите заработную плату за месяц: 100000\n",
      "Введите какой процент от зарплаты уходит на ипотеку: 30\n",
      "Введите какой процент от зарплаты уходит \"на жизнь\": 50\n",
      "Введите количество премий за год: 2\n",
      "Вывод: \n",
      "На ипотеку было потрачено:  360000.0 рублей\n",
      "Было накоплено:  340000.0 рублей\n"
     ]
    }
   ],
   "source": [
    "salary = int(input('Введите заработную плату за месяц: '))\n",
    "credit = int(input('Введите какой процент от зарплаты уходит на ипотеку: '))\n",
    "life = int(input('Введите какой процент от зарплаты уходит \"на жизнь\": '))\n",
    "count_award = int(input('Введите количество премий за год: '))\n",
    "credit_year = credit * salary/100 * 12\n",
    "life_year = life * salary/100 * 12\n",
    "accumulation_year = (100 - credit -life)/100 * salary * 12\n",
    "accumulation_year_with_prize = salary * count_award/2 + accumulation_year\n",
    "\n",
    "print('Вывод: ')\n",
    "print('На ипотеку было потрачено: ', credit_year, 'рублей')\n",
    "print('Было накоплено: ', accumulation_year_with_prize, 'рублей')"
   ]
  }
 ],
 "metadata": {
  "kernelspec": {
   "display_name": "Python 3",
   "language": "python",
   "name": "python3"
  },
  "language_info": {
   "codemirror_mode": {
    "name": "ipython",
    "version": 3
   },
   "file_extension": ".py",
   "mimetype": "text/x-python",
   "name": "python",
   "nbconvert_exporter": "python",
   "pygments_lexer": "ipython3",
   "version": "3.7.4"
  }
 },
 "nbformat": 4,
 "nbformat_minor": 2
}
